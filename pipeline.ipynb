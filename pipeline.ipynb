{
 "cells": [
  {
   "cell_type": "code",
   "execution_count": null,
   "id": "f52ac96d",
   "metadata": {},
   "outputs": [
    {
     "data": {
      "text/plain": [
       "(<utils.dataloader.SpeakerDataset at 0x21ad6d29790>,\n",
       " <utils.dataloader.SpeakerDataset at 0x21ad74a53d0>,\n",
       " <utils.dataloader.SpeakerDataset at 0x21ad74b59d0>)"
      ]
     },
     "execution_count": 1,
     "metadata": {},
     "output_type": "execute_result"
    }
   ],
   "source": [
    "from utils.data_preparation import prepare_dataset\n",
    "\n",
    "prepare_dataset()"
   ]
  }
 ],
 "metadata": {
  "kernelspec": {
   "display_name": "venv",
   "language": "python",
   "name": "python3"
  },
  "language_info": {
   "codemirror_mode": {
    "name": "ipython",
    "version": 3
   },
   "file_extension": ".py",
   "mimetype": "text/x-python",
   "name": "python",
   "nbconvert_exporter": "python",
   "pygments_lexer": "ipython3",
   "version": "3.11.9"
  }
 },
 "nbformat": 4,
 "nbformat_minor": 5
}
