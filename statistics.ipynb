{
 "cells": [
  {
   "cell_type": "markdown",
   "id": "468cf4ee",
   "metadata": {},
   "source": [
    "# Speaker recognition : Pre-work statistics\n",
    "\n",
    "This Jupyter notebook is about getting a better understanding of dataset."
   ]
  },
  {
   "cell_type": "markdown",
   "id": "6da25b5f",
   "metadata": {},
   "source": [
    "## Load or dowload the LibriSpeech material\n",
    "\n",
    "Regarding the dataset README : \"*LibriSpeech is a corpus of read speech, based on LibriVox's public domain\n",
    "audio books.*\"\n",
    "\n",
    "We use the \"*train-clean-100*\" subset for two reasons:\n",
    "- This is the smallest subset of LibriSpeech, it is composed of only 100h of recording from about 250 different speakers, which is **way enough** for our projet.\n",
    "- These audio was automatacally classified as \"clean\" audio file, **without noise or any stuff** that could complicate the training of our model. "
   ]
  },
  {
   "cell_type": "code",
   "execution_count": null,
   "id": "48a22e49",
   "metadata": {},
   "outputs": [],
   "source": [
    "import os\n",
    "import torchaudio\n",
    "\n",
    "# Create data folder if missing\n",
    "os.makedirs(\"./data\", exist_ok=True)\n",
    "\n",
    "# Dowload archive of train-clean-100 and unzip it in data folder\n",
    "# Or load it if previously downloaded\n",
    "dataset = torchaudio.datasets.LIBRISPEECH(\"./data\", url=\"train-clean-100\", \n",
    "                                          download=not(os.path.isdir(\"data/LibriSpeech\")))"
   ]
  },
  {
   "cell_type": "markdown",
   "id": "9b30fc4a",
   "metadata": {},
   "source": [
    "## Compute basic statistics\n",
    "\n",
    "In order to know better about the dataset especially for train/test/validation set split or data augmentation."
   ]
  },
  {
   "cell_type": "code",
   "execution_count": null,
   "id": "6e21362e",
   "metadata": {},
   "outputs": [
    {
     "name": "stdout",
     "output_type": "stream",
     "text": [
      "Total number of audio extracts: 251\n",
      "Total duration of dataset (minutes): 6035.41\n",
      "Average duration per extract (minutes): 24.05\n",
      "Total number of speakers: 251\n",
      "Average number of extracts per speaker: 1.00\n",
      "Number of M: 126, and F:125\n"
     ]
    }
   ],
   "source": [
    "import pandas as pd\n",
    "import utils.dataset_metadata_parser as dmp\n",
    "\n",
    "# Load speakers metadata and keep only those in train-clean-100\n",
    "speaker_df = dmp.parse_pipe(\"data/LibriSpeech/SPEAKERS.TXT\")\n",
    "filtered_speaker_df = speaker_df[speaker_df[\"SUBSET\"] == \"train-clean-100\"]\n",
    "\n",
    "# Total number of audio extracts\n",
    "total_extracts = len(filtered_speaker_df)\n",
    "\n",
    "# Total duration of dataset (in minutes)\n",
    "total_duration = filtered_speaker_df[\"MINUTES\"].sum()\n",
    "\n",
    "# Average duration per extract\n",
    "average_duration = filtered_speaker_df[\"MINUTES\"].mean()\n",
    "\n",
    "# Total number of unique speakers (by ID or NAME, depending on what defines a speaker)\n",
    "total_speakers = filtered_speaker_df[\"ID\"].nunique()\n",
    "\n",
    "# Average number of extracts per speaker\n",
    "average_extracts_per_speaker = total_extracts / total_speakers\n",
    "\n",
    "# Number of M and F\n",
    "morf_number = filtered_speaker_df['SEX'].value_counts()\n",
    "\n",
    "# Print the results\n",
    "print(f\"Total number of audio extracts: {total_extracts}\")\n",
    "print(f\"Total duration of dataset (minutes): {total_duration:.2f}\")\n",
    "print(f\"Average duration per extract (minutes): {average_duration:.2f}\")\n",
    "print(f\"Total number of speakers: {total_speakers}\")\n",
    "print(f\"Average number of extracts per speaker: {average_extracts_per_speaker:.2f}\")\n",
    "print(f\"Number of M: {morf_number['M']}, and F:{morf_number['F']}\")"
   ]
  }
 ],
 "metadata": {
  "kernelspec": {
   "display_name": "venv",
   "language": "python",
   "name": "python3"
  },
  "language_info": {
   "codemirror_mode": {
    "name": "ipython",
    "version": 3
   },
   "file_extension": ".py",
   "mimetype": "text/x-python",
   "name": "python",
   "nbconvert_exporter": "python",
   "pygments_lexer": "ipython3",
   "version": "3.11.9"
  }
 },
 "nbformat": 4,
 "nbformat_minor": 5
}
